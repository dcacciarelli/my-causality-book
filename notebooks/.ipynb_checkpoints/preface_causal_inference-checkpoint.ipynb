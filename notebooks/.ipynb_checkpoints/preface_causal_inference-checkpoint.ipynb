{
 "cells": [
  {
   "cell_type": "markdown",
   "id": "30e6e94f-7a50-41be-a5db-594174e0bb09",
   "metadata": {},
   "source": [
    "# Overview\n",
    "\n",
    "Causal inference focuses on estimating the strength and nature of identified causal relationships. This part uses statistical techniques to quantify the effect of one variable on another, given that the causal structure is known or assumed. It aims to provide precise and reliable estimates of causal effects, essential for making informed decisions and predictions."
   ]
  },
  {
   "cell_type": "markdown",
   "id": "58f4dfa2-377f-4287-9d75-d3d9f6941e63",
   "metadata": {},
   "source": [
    "## Content of causal inference chapters\n",
    "\n",
    "| Chapter | Title                         | Description                                                                                  |\n",
    "|---------|-------------------------------|----------------------------------------------------------------------------------------------|\n",
    "| 13      | Instrumental variables (IV)   | Explains the use of instrumental variables to estimate causal effects when controlled experiments are not feasible. |\n",
    "| 14      | Propensity Score Matching (PSM) | Discusses how to use propensity score matching to control for confounding variables in observational studies. |\n",
    "| 15      | Double Machine Learning (DML) | Describes the application of machine learning methods to causal inference, allowing for flexible and robust estimation of treatment effects. |\n",
    "| 16      | Difference-in-differences (DiD) | Covers the difference-in-differences approach to estimate causal effects by comparing changes in outcomes over time between treated and control groups. |\n",
    "| 17      | Interrupted time series (ITS) | Examines the interrupted time series design, which uses time series data to evaluate the effect of interventions. |\n"
   ]
  },
  {
   "cell_type": "code",
   "execution_count": null,
   "id": "55603872-568c-4edb-b841-d957a9511fe6",
   "metadata": {},
   "outputs": [],
   "source": []
  }
 ],
 "metadata": {
  "kernelspec": {
   "display_name": "Python 3 (ipykernel)",
   "language": "python",
   "name": "python3"
  },
  "language_info": {
   "codemirror_mode": {
    "name": "ipython",
    "version": 3
   },
   "file_extension": ".py",
   "mimetype": "text/x-python",
   "name": "python",
   "nbconvert_exporter": "python",
   "pygments_lexer": "ipython3",
   "version": "3.11.9"
  }
 },
 "nbformat": 4,
 "nbformat_minor": 5
}
