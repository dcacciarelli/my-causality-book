{
 "cells": [
  {
   "cell_type": "markdown",
   "id": "fe307d22-81a1-46e5-abaf-d91d236dbb6e",
   "metadata": {},
   "source": [
    "# Accumulated local effects (ALE)"
   ]
  },
  {
   "cell_type": "code",
   "execution_count": null,
   "id": "77a65cd1-13da-4d30-8e21-1449428b4214",
   "metadata": {},
   "outputs": [],
   "source": []
  }
 ],
 "metadata": {
  "kernelspec": {
   "display_name": "Python 3 (ipykernel)",
   "language": "python",
   "name": "python3"
  },
  "language_info": {
   "codemirror_mode": {
    "name": "ipython",
    "version": 3
   },
   "file_extension": ".py",
   "mimetype": "text/x-python",
   "name": "python",
   "nbconvert_exporter": "python",
   "pygments_lexer": "ipython3",
   "version": "3.11.9"
  }
 },
 "nbformat": 4,
 "nbformat_minor": 5
}
