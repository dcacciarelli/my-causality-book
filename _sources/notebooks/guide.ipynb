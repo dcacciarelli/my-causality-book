{
 "cells": [
  {
   "cell_type": "markdown",
   "id": "09725987-a7a2-4f2d-9812-09841bf32e63",
   "metadata": {},
   "source": [
    "# What to expect from each chapter\n",
    "\n",
    "The content is currently divided into five main parts. Each part aims to provide a set of alternatives to tackle **one key objective**. This is your map if you are not sure what you need.\n",
    "\n",
    "| Part | Name |Key Objective | Description |\n",
    "|------|---------|--------------|-------------|\n",
    "| I    | Basic Concepts |**Getting an overview of causal inference** | Introduction and basic concepts to understand the foundation of causal inference. |\n",
    "| II   | Causal Discovery |**Discovering causal relationships from data** | Techniques and methods for identifying causal structures and relationships. |\n",
    "| III  | Causal Inference|**Estimating causal effects accurately** | Methods for quantifying the strength and nature of causal relationships. |\n",
    "| IV   | Interpretability |**Interpreting machine learning models** | Techniques to understand and explain model predictions and decisions. |\n",
    "| V    | Data Collection|**Designing effective experiments** | Approaches for planning, conducting, and analysing controlled experiments. |\n"
   ]
  }
 ],
 "metadata": {
  "kernelspec": {
   "display_name": "Python 3 (ipykernel)",
   "language": "python",
   "name": "python3"
  },
  "language_info": {
   "codemirror_mode": {
    "name": "ipython",
    "version": 3
   },
   "file_extension": ".py",
   "mimetype": "text/x-python",
   "name": "python",
   "nbconvert_exporter": "python",
   "pygments_lexer": "ipython3",
   "version": "3.11.9"
  }
 },
 "nbformat": 4,
 "nbformat_minor": 5
}
