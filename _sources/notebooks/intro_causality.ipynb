{
 "cells": [
  {
   "cell_type": "markdown",
   "id": "a41b1268-703e-44d3-a397-1397ad1cd06b",
   "metadata": {},
   "source": [
    "# Causality "
   ]
  }
 ],
 "metadata": {
  "kernelspec": {
   "display_name": "Python 3 (ipykernel)",
   "language": "python",
   "name": "python3"
  },
  "language_info": {
   "codemirror_mode": {
    "name": "ipython",
    "version": 3
   },
   "file_extension": ".py",
   "mimetype": "text/x-python",
   "name": "python",
   "nbconvert_exporter": "python",
   "pygments_lexer": "ipython3",
   "version": "3.11.9"
  }
 },
 "nbformat": 4,
 "nbformat_minor": 5
}
