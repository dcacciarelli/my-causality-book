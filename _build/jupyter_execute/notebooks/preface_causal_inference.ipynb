{
 "cells": [
  {
   "cell_type": "markdown",
   "id": "30e6e94f-7a50-41be-a5db-594174e0bb09",
   "metadata": {},
   "source": [
    "# Overview\n",
    "\n",
    "Causal inference focuses on estimating the strength and nature of identified causal relationships. This part uses statistical techniques to quantify the effect of one variable on another, given that the causal structure is known or assumed. If you do not know the causal graph, you can take a look at Part II about Causal Discovery to see methods to unveil the causal graph from observational data.\n",
    "\n",
    "Knowing the causal graph is crucial because it helps identify the relationships and dependencies between variables. This knowledge allows for accurate estimation of causal effects, essential for making informed decisions and predictions. Here are some key reasons why understanding the causal graph is important:\n",
    "\n",
    "- **Correct identification of relationships**: the causal graph helps in correctly identifying which variables directly affect the outcome of interest. This is important for estimating the true causal effect of a treatment variable.\n",
    "  \n",
    "- **Avoiding Bias**: without a proper causal graph, estimates of causal effects can be biased due to confounding variables. For instance, failing to account for confounders can lead to incorrect conclusions about the relationship between variables.\n",
    "\n",
    "- **Understanding mediators and colliders**: the causal graph helps in identifying mediators (variables that lie on the causal path between the treatment and outcome) and colliders (variables influenced by two or more other variables). Misunderstanding these roles can lead to incorrect model specifications and biased estimates.\n",
    "\n",
    "\n",
    "The following Chapters will try to present some key techniques to obtain precise and reliable estimates of causal effects by accounting for the presence of confounders and exogenous factors.\n",
    "\n",
    "## Content of Causal Inference Chapters\n",
    "\n",
    "| Chapter | Description                                                                                  |\n",
    "|---------|----------------------------------------------------------------------------------------------|\n",
    "| Instrumental Variables   | How to estimate causal effects when we might suffer from omitted variable bias, or when the explanatory variable and response variable influence each other. |\n",
    "| Propensity Score Matching | How to control for confounders and avoid the selection bias. |\n",
    "| Double Machine Learning | How to estimate causal inference using machine learnign models and adjusting for the presence of a high-dimensional set of confounders. |\n",
    "| Difference-in-Differences | How to estimate the effect of a treatment on time series data by comparing changes in outcomes over time between treated and control groups. |\n",
    "| Interrupted Time Series | How to estimate treatment effects in time series without the presence of a control group. |\n"
   ]
  }
 ],
 "metadata": {
  "kernelspec": {
   "display_name": "Python 3 (ipykernel)",
   "language": "python",
   "name": "python3"
  },
  "language_info": {
   "codemirror_mode": {
    "name": "ipython",
    "version": 3
   },
   "file_extension": ".py",
   "mimetype": "text/x-python",
   "name": "python",
   "nbconvert_exporter": "python",
   "pygments_lexer": "ipython3",
   "version": "3.11.9"
  }
 },
 "nbformat": 4,
 "nbformat_minor": 5
}