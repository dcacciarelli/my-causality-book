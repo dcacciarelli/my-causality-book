{
 "cells": [
  {
   "cell_type": "markdown",
   "id": "3f32d947-e6d3-464a-93f7-593768a66e90",
   "metadata": {},
   "source": [
    "# Overview\n",
    "\n",
    "Causal discovery involves identifying causal relationships from data. This process uncovers the underlying causal structure without assuming prior knowledge of the direction or nature of causality. It typically employs statistical and computational methods to determine which variables influence others, providing a foundation for further causal analysis.\n",
    "\n",
    "\n",
    "In this chapter, we assume to already onow the causal graph describing the data-generating process. This can be available because of:\n",
    "- Domain knowledge: in some cases, there are well-known principles and mechanisms governing the processes under investigation. In this case, we might be able to draw causal graphs relying on the expertise of practitioners or on the findings reported in previous studies.\n",
    "- Data-driven methods: when we cannot assume prior knowledge about the process, we can obtain a causal graph using causal discovery algorithms such as the ones discussed in the first chapter.\n",
    "- Hybrid approaches: in many cases, the two aforementioned approaches will be complementary. For example, we can consider two cases:\n",
    "    - Start with domain knowledge: if experts can only get to know an incomplete causal graph, we can try to include this knowledge into the causal discovery algorithm in order to try and discover only the missing relationships.\n",
    "    - Start with the data: we might get a tentative causal graph from a causal discovery algorithm such as LiNGAM and then validate it and refine it iteratively upon consultation of engineers or practitioners.\n",
    "\n",
    "\n",
    "\n",
    "\n",
    "Two main approaches:\n",
    "- Independence-based causal discovery\n",
    "- Semi-parametric causal discovery"
   ]
  },
  {
   "cell_type": "markdown",
   "id": "f66b13ec-8b83-4082-9d00-997d44888ec1",
   "metadata": {},
   "source": [
    "We currently focus primarily on semi-parametric approaches, inspired by the methodologies presented in [Statistical Causal Discovery: LiNGAM Approach](https://link.springer.com/book/10.1007/978-4-431-55784-5). Many examples are implemented using the LiNGAM Python package {cite}`ikeuchi2023python`."
   ]
  }
 ],
 "metadata": {
  "kernelspec": {
   "display_name": "Python 3 (ipykernel)",
   "language": "python",
   "name": "python3"
  },
  "language_info": {
   "codemirror_mode": {
    "name": "ipython",
    "version": 3
   },
   "file_extension": ".py",
   "mimetype": "text/x-python",
   "name": "python",
   "nbconvert_exporter": "python",
   "pygments_lexer": "ipython3",
   "version": "3.11.9"
  }
 },
 "nbformat": 4,
 "nbformat_minor": 5
}