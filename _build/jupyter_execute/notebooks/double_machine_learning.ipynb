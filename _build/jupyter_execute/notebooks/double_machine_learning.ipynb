{
 "cells": [
  {
   "cell_type": "markdown",
   "id": "320b85bf-d38f-4ba1-97a5-1d6df42c0c09",
   "metadata": {},
   "source": [
    "# Double machine learning (DML)"
   ]
  },
  {
   "cell_type": "markdown",
   "id": "12d427c5-550c-431a-9300-27f71eae355d",
   "metadata": {},
   "source": [
    "Double machine learning (DML) is a powerful framework used to estimate causal effects in the presence of many confounding variables. It combines machine learning techniques with econometric methods to control for confounding variables and obtain unbiased estimates of treatment effects. Let's consider a practical example where we want to estimate the effect of wind power production ($w$) on electricity prices ($y$), while **accounting for other influencing factors** such as weather conditions, demand, and other market variables ($x$).\n",
    "\n",
    "We can model the relationship between these variables as follows. First, we know that there is an unknown function $g$ relating the response variable $y$ to both the endogenous explanatory variable of interest, $w$, and other variables $x$.\n",
    "\n",
    "\\begin{equation}\n",
    "    y = g(w, x) + \\epsilon\n",
    "\\end{equation}\n",
    "\n",
    "where $\\epsilon$ is an error term. This equation simply corresponds to saying:\n",
    "\\begin{equation}\n",
    "    \\text{Electricity price} = g(\\text{wind power production}, \\text{weather conditions}, \\text{demand}, \\text{market variables}) + \\epsilon\n",
    "\\end{equation}\n",
    "\n",
    "Then, we also know that the explanatory variable of interest $w$ can be expressed as a function of other known variables (e.g., weather conditions).\n",
    "\n",
    "\\begin{equation}\n",
    "    w = m(x) + \\nu\n",
    "\\end{equation}\n",
    "\n",
    "where $\\nu$ is an error variable.\n",
    "\n",
    "The DML framework involves two main stages:\n",
    "- **Nuisance parameter estimation**: use a machine learning model to estimate the functions $ \\hat{g}(w, x)$ and $ \\hat{m}(x)$.\n",
    "- **Orthogonalization and estimation**: use the estimated functions to adjust the variables and then estimate the causal effect using a second-stage regression.\n",
    "\n",
    "**Difference with IV and 2SLS**: while this approach might appear very similar to IVs and 2SLS, there is a fundamental difference. IVs are used in the presence of unknown or unobserved confounders. Here, we have at our disposal a (potentially very large) set of variables that affect the explanatory variable of interest."
   ]
  },
  {
   "cell_type": "code",
   "execution_count": null,
   "id": "6b2a3c56-52eb-4dec-a097-fa8a1cafc5e4",
   "metadata": {},
   "outputs": [],
   "source": []
  }
 ],
 "metadata": {
  "kernelspec": {
   "display_name": "Python 3 (ipykernel)",
   "language": "python",
   "name": "python3"
  },
  "language_info": {
   "codemirror_mode": {
    "name": "ipython",
    "version": 3
   },
   "file_extension": ".py",
   "mimetype": "text/x-python",
   "name": "python",
   "nbconvert_exporter": "python",
   "pygments_lexer": "ipython3",
   "version": "3.11.9"
  }
 },
 "nbformat": 4,
 "nbformat_minor": 5
}