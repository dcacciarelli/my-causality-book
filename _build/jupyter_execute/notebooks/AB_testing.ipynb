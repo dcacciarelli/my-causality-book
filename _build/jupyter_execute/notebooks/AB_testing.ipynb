{
 "cells": [
  {
   "cell_type": "markdown",
   "id": "f55cc8d6-22f1-45f6-98fa-3c28b0628ae1",
   "metadata": {},
   "source": [
    "# A/B testing"
   ]
  },
  {
   "cell_type": "code",
   "execution_count": null,
   "id": "760c9047-2155-4ff8-ba46-c10151c04e65",
   "metadata": {},
   "outputs": [],
   "source": []
  }
 ],
 "metadata": {
  "kernelspec": {
   "display_name": "Python 3 (ipykernel)",
   "language": "python",
   "name": "python3"
  },
  "language_info": {
   "codemirror_mode": {
    "name": "ipython",
    "version": 3
   },
   "file_extension": ".py",
   "mimetype": "text/x-python",
   "name": "python",
   "nbconvert_exporter": "python",
   "pygments_lexer": "ipython3",
   "version": "3.11.9"
  }
 },
 "nbformat": 4,
 "nbformat_minor": 5
}