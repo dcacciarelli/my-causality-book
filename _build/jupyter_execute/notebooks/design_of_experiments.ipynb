{
 "cells": [
  {
   "cell_type": "markdown",
   "id": "ff6b2919-12ef-4d21-a830-4faf53e73e7d",
   "metadata": {},
   "source": [
    "# Design of experiments"
   ]
  },
  {
   "cell_type": "code",
   "execution_count": null,
   "id": "a9cb59ce-9d84-40b5-9a01-667b87ed35a8",
   "metadata": {},
   "outputs": [],
   "source": []
  }
 ],
 "metadata": {
  "kernelspec": {
   "display_name": "Python 3 (ipykernel)",
   "language": "python",
   "name": "python3"
  },
  "language_info": {
   "codemirror_mode": {
    "name": "ipython",
    "version": 3
   },
   "file_extension": ".py",
   "mimetype": "text/x-python",
   "name": "python",
   "nbconvert_exporter": "python",
   "pygments_lexer": "ipython3",
   "version": "3.11.9"
  }
 },
 "nbformat": 4,
 "nbformat_minor": 5
}