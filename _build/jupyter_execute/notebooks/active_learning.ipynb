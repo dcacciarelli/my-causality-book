{
 "cells": [
  {
   "cell_type": "markdown",
   "id": "33c2f140-2254-4b95-b771-e2ffc8e6f232",
   "metadata": {},
   "source": [
    "# Active Learning"
   ]
  }
 ],
 "metadata": {
  "kernelspec": {
   "display_name": "Python 3 (ipykernel)",
   "language": "python",
   "name": "python3"
  },
  "language_info": {
   "codemirror_mode": {
    "name": "ipython",
    "version": 3
   },
   "file_extension": ".py",
   "mimetype": "text/x-python",
   "name": "python",
   "nbconvert_exporter": "python",
   "pygments_lexer": "ipython3",
   "version": "3.11.9"
  }
 },
 "nbformat": 4,
 "nbformat_minor": 5
}