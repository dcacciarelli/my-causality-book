{
 "cells": [
  {
   "cell_type": "markdown",
   "id": "2bd0db45-6117-41c4-a4c8-bf5eacee4157",
   "metadata": {},
   "source": [
    "# Partial dependency plots"
   ]
  },
  {
   "cell_type": "code",
   "execution_count": null,
   "id": "c96ebadd-31cd-4984-ad68-fa1cfe04f456",
   "metadata": {},
   "outputs": [],
   "source": []
  }
 ],
 "metadata": {
  "kernelspec": {
   "display_name": "Python 3 (ipykernel)",
   "language": "python",
   "name": "python3"
  },
  "language_info": {
   "codemirror_mode": {
    "name": "ipython",
    "version": 3
   },
   "file_extension": ".py",
   "mimetype": "text/x-python",
   "name": "python",
   "nbconvert_exporter": "python",
   "pygments_lexer": "ipython3",
   "version": "3.11.9"
  }
 },
 "nbformat": 4,
 "nbformat_minor": 5
}