{
 "cells": [
  {
   "cell_type": "markdown",
   "id": "1091379b-150e-4163-9ac8-71c4954e78f7",
   "metadata": {},
   "source": [
    "# Impulse Response Functions"
   ]
  },
  {
   "cell_type": "code",
   "execution_count": null,
   "id": "217d9a75-e8d5-4571-a966-1094c978a686",
   "metadata": {},
   "outputs": [],
   "source": []
  }
 ],
 "metadata": {
  "kernelspec": {
   "display_name": "Python 3 (ipykernel)",
   "language": "python",
   "name": "python3"
  },
  "language_info": {
   "codemirror_mode": {
    "name": "ipython",
    "version": 3
   },
   "file_extension": ".py",
   "mimetype": "text/x-python",
   "name": "python",
   "nbconvert_exporter": "python",
   "pygments_lexer": "ipython3",
   "version": "3.11.9"
  }
 },
 "nbformat": 4,
 "nbformat_minor": 5
}