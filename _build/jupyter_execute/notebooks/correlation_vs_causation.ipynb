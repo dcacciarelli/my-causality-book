{
 "cells": [
  {
   "cell_type": "markdown",
   "id": "318fa5da-edd8-454a-a92d-8b1c4c93414b",
   "metadata": {},
   "source": [
    "# Introduction to causality and DAGs\n",
    "\n",
    "## Understanding key drivers\n",
    "When tackling real-world engineering problems, a fundamental goal is to understand the underlying mechanisms that govern a system and the **key drivers** affecting its performance. This understanding often comes from conducting experiments, which are foundational to scientific research. For instance, if we aim to determine the effect of a new solar panel design on energy conversion efficiency, systematic experimentation might be the first approach. Through controlled manipulation and observation, experiments help us establish clear cause-and-effect relationships.\n",
    "\n",
    "## Experimental vs. observational data\n",
    "Ideally, we collect **experimental data** where variables of interest are manipulated to observe changes in outcomes directly. This direct manipulation helps in establishing causality with greater certainty. However, in many real-world settings, such as economics or public policy, performing experiments can be impractical, expensive, or unethical. As a result, researchers and analysts often rely on **observational data**, which is data collected without any direct manipulation of variables.\n",
    "\n",
    "Working with observational data introduces complexities, particularly in distinguishing between mere correlations and actual causal relationships. Observational data can reveal patterns and associations, but without the ability to control for all influencing factors, these correlations might lead to misleading conclusions about causality.\n",
    "\n",
    "**Causal inference** bridges this gap. It is a branch of statistics focused on determining cause-and-effect relationships from data where no explicit experimentation has been conducted. Unlike a mere correlation analysis, which only measures how variables move together, causal inference aims to uncover whether and how one variable influences another. This distinction is vital for informed decision-making across various domains, including economics, healthcare, and energy markets.\n",
    "\n",
    "In the electricity market, understanding causal relationships is crucial. It enables stakeholders to predict the effects of policy changes, modify pricing strategies, and assess the impact of technological advancements on demand and supply dynamics. Causal inference provides the tools to make predictions about the consequences of potential actions, thereby supporting more strategic and effective decision-making."
   ]
  },
  {
   "cell_type": "markdown",
   "id": "1930a70b-5342-412f-927c-8fd4eac01cf8",
   "metadata": {},
   "source": [
    "## Correlation vs. causation: an example\n",
    "\n",
    "The phrase \"correlation does not imply causation\" is frequently cited in statistical analysis to caution against the premature conclusion that one variable causes another simply because they are associated. Despite this, it is surprising how often business decisions are made based on perceived associations highlighted by correlation metrics alone.\n",
    "\n",
    "To illustrate this point and introduce key terminology used in causal inference, consider a simple example involving three variables:\n",
    "1. Temperature (°C)\n",
    "2. Electricity load (MW)\n",
    "3. Ice cream sales (GBP)\n",
    "\n",
    "To better understand the relationships among these variables, we utilize a **causal graph**. In this scenario, we assume knowledge of the true causal structure of the data-generating process: temperature affects both electricity load and ice cream sales.\n",
    "\n",
    "A causal graph is typically assumed to be a **directed acyclic graph (DAG)**, which is a graphical representation used to model and reason about the causal relationships between variables. In a DAG:\n",
    "\n",
    "- **Nodes** represent variables or events.\n",
    "- **Edges** (arrows) indicate causal influences from one variable to another.\n",
    "\n",
    "When we say that the graph is **acyclic**, it means that it does not contain any loops, ensuring that causality flows in one direction and does not circle back on itself.\n",
    "\n",
    "In the causal graph below, **temperature** is depicted as a parent node influencing two child nodes: **electricity load** and **ice cream sales**. This structure helps us visualize and understand that fluctuations in temperature are the underlying drivers for changes in electricity consumption and ice cream sales. Typically, we are also interested in understanding the **strength** of these causal connections. However, for now, let's not consider the specific impacts of these weights."
   ]
  },
  {
   "cell_type": "code",
   "execution_count": 1,
   "id": "6cb424cc-0d8b-4b7f-95a1-d168e2d4fe23",
   "metadata": {},
   "outputs": [
    {
     "data": {
      "image/svg+xml": [
       "<?xml version=\"1.0\" encoding=\"UTF-8\" standalone=\"no\"?>\n",
       "<!DOCTYPE svg PUBLIC \"-//W3C//DTD SVG 1.1//EN\"\n",
       " \"http://www.w3.org/Graphics/SVG/1.1/DTD/svg11.dtd\">\n",
       "<!-- Generated by graphviz version 10.0.1 (20240210.2158)\n",
       " -->\n",
       "<!-- Pages: 1 -->\n",
       "<svg width=\"228pt\" height=\"138pt\"\n",
       " viewBox=\"0.00 0.00 227.59 137.98\" xmlns=\"http://www.w3.org/2000/svg\" xmlns:xlink=\"http://www.w3.org/1999/xlink\">\n",
       "<g id=\"graph0\" class=\"graph\" transform=\"scale(1 1) rotate(0) translate(4 133.98)\">\n",
       "<polygon fill=\"white\" stroke=\"none\" points=\"-4,4 -4,-133.98 223.59,-133.98 223.59,4 -4,4\"/>\n",
       "<!-- T -->\n",
       "<g id=\"node1\" class=\"node\">\n",
       "<title>T</title>\n",
       "<ellipse fill=\"none\" stroke=\"black\" cx=\"110.09\" cy=\"-111.98\" rx=\"58.52\" ry=\"18\"/>\n",
       "<text text-anchor=\"middle\" x=\"110.09\" y=\"-106.93\" font-family=\"Times,serif\" font-size=\"14.00\">Temperature</text>\n",
       "</g>\n",
       "<!-- L -->\n",
       "<g id=\"node2\" class=\"node\">\n",
       "<title>L</title>\n",
       "<ellipse fill=\"none\" stroke=\"black\" cx=\"51.09\" cy=\"-28.99\" rx=\"51.09\" ry=\"28.99\"/>\n",
       "<text text-anchor=\"middle\" x=\"51.09\" y=\"-32.19\" font-family=\"Times,serif\" font-size=\"14.00\">Electricity</text>\n",
       "<text text-anchor=\"middle\" x=\"51.09\" y=\"-15.69\" font-family=\"Times,serif\" font-size=\"14.00\">load</text>\n",
       "</g>\n",
       "<!-- T&#45;&gt;L -->\n",
       "<g id=\"edge1\" class=\"edge\">\n",
       "<title>T&#45;&gt;L</title>\n",
       "<path fill=\"none\" stroke=\"black\" d=\"M97.86,-94.2C91.76,-85.83 84.15,-75.37 76.84,-65.34\"/>\n",
       "<polygon fill=\"black\" stroke=\"black\" points=\"79.88,-63.56 71.16,-57.54 74.22,-67.69 79.88,-63.56\"/>\n",
       "</g>\n",
       "<!-- I -->\n",
       "<g id=\"node3\" class=\"node\">\n",
       "<title>I</title>\n",
       "<ellipse fill=\"none\" stroke=\"black\" cx=\"170.09\" cy=\"-28.99\" rx=\"49.5\" ry=\"28.99\"/>\n",
       "<text text-anchor=\"middle\" x=\"170.09\" y=\"-32.19\" font-family=\"Times,serif\" font-size=\"14.00\">Ice cream</text>\n",
       "<text text-anchor=\"middle\" x=\"170.09\" y=\"-15.69\" font-family=\"Times,serif\" font-size=\"14.00\">sales</text>\n",
       "</g>\n",
       "<!-- T&#45;&gt;I -->\n",
       "<g id=\"edge2\" class=\"edge\">\n",
       "<title>T&#45;&gt;I</title>\n",
       "<path fill=\"none\" stroke=\"black\" d=\"M122.52,-94.2C128.78,-85.76 136.6,-75.19 144.09,-65.08\"/>\n",
       "<polygon fill=\"black\" stroke=\"black\" points=\"146.78,-67.34 149.92,-57.22 141.15,-63.17 146.78,-67.34\"/>\n",
       "</g>\n",
       "</g>\n",
       "</svg>\n"
      ],
      "text/plain": [
       "<graphviz.graphs.Digraph at 0x10865d110>"
      ]
     },
     "metadata": {},
     "output_type": "display_data"
    }
   ],
   "source": [
    "import graphviz\n",
    "from IPython.display import display\n",
    "\n",
    "# Create a new graph\n",
    "dot = graphviz.Digraph()\n",
    "\n",
    "# Add nodes\n",
    "dot.node('T', 'Temperature')\n",
    "dot.node('L', 'Electricity\\nload')\n",
    "dot.node('I', 'Ice cream\\nsales')\n",
    "\n",
    "# Add edges\n",
    "dot.edge('T', 'L')\n",
    "dot.edge('T', 'I')\n",
    "\n",
    "# Display the graph in the notebook\n",
    "display(dot)"
   ]
  },
  {
   "cell_type": "markdown",
   "id": "2cfd25e7-84c3-48c4-8d52-47670fd93ca1",
   "metadata": {},
   "source": [
    "Assume we have collected a dataset that follows the causal structure outlined in the previously discussed causal graph. However, let's also assume that we are unaware of this true causal structure and need to perform exploratory analysis to uncover potential correlations among the observations.\n",
    "\n",
    "In this scenario, our goal is to explore the data, look for correlations, and attempt to infer possible causal relationships without prior knowledge of the underlying causal mechanisms. This approach mimics real-world situations where data scientists and researchers often work with complex datasets without a clear understanding of the dynamics that govern the relationships between variables.\n",
    "\n",
    "Through statistical methods and visual analysis, we will examine the interactions between temperature, electricity load, and ice cream sales, exploring how these variables may be related and considering the implications of our findings."
   ]
  },
  {
   "cell_type": "code",
   "execution_count": 2,
   "id": "e662a7dd-4dde-4117-8dd8-dac2f75560e7",
   "metadata": {},
   "outputs": [
    {
     "ename": "NameError",
     "evalue": "name 'np' is not defined",
     "output_type": "error",
     "traceback": [
      "\u001b[0;31m---------------------------------------------------------------------------\u001b[0m",
      "\u001b[0;31mNameError\u001b[0m                                 Traceback (most recent call last)",
      "Cell \u001b[0;32mIn[2], line 7\u001b[0m\n\u001b[1;32m      4\u001b[0m \u001b[38;5;28;01mimport\u001b[39;00m \u001b[38;5;21;01mseaborn\u001b[39;00m \u001b[38;5;28;01mas\u001b[39;00m \u001b[38;5;21;01msns\u001b[39;00m\n\u001b[1;32m      6\u001b[0m \u001b[38;5;66;03m# Setting a random seed for reproducibility\u001b[39;00m\n\u001b[0;32m----> 7\u001b[0m np\u001b[38;5;241m.\u001b[39mrandom\u001b[38;5;241m.\u001b[39mseed(\u001b[38;5;241m42\u001b[39m)\n\u001b[1;32m      9\u001b[0m \u001b[38;5;66;03m# Generating synthetic data\u001b[39;00m\n\u001b[1;32m     10\u001b[0m n \u001b[38;5;241m=\u001b[39m \u001b[38;5;241m100000\u001b[39m\n",
      "\u001b[0;31mNameError\u001b[0m: name 'np' is not defined"
     ]
    }
   ],
   "source": [
    "import pandas as pd\n",
    "import matplotlib.pyplot as plt\n",
    "%matplotlib inline\n",
    "import seaborn as sns\n",
    "\n",
    "# Setting a random seed for reproducibility\n",
    "np.random.seed(42)\n",
    "\n",
    "# Generating synthetic data\n",
    "n = 100000\n",
    "temperatures = np.random.normal(20, 5, n)  # average temperature in Celsius\n",
    "electricity_load = 0.2 * (temperatures - 20)**2 + 70 + np.random.normal(0, 5, n)  # Quadratic relationship for U-shape\n",
    "ice_cream_sales = 5* temperatures + np.random.normal(0, 20, n)  # also influenced by temperature\n",
    "\n",
    "# Creating a DataFrame\n",
    "data = pd.DataFrame({'Temperature': temperatures, 'Electricity Load': electricity_load, 'Ice Cream Sales': ice_cream_sales})\n",
    "\n",
    "# Setting up the plots\n",
    "fig, axes = plt.subplots(1, 3, figsize=(18, 5))\n",
    "\n",
    "# Temperature vs Electricity Load with hexbin plot\n",
    "hb1 = axes[0].hexbin(data['Temperature'], data['Electricity Load'], gridsize=50, cmap='Blues', bins='log')\n",
    "axes[0].set_title('Temperature vs Electricity Load')\n",
    "axes[0].set_xlabel('Temperature (°C)')\n",
    "axes[0].set_ylabel('Electricity Load (MW)')\n",
    "\n",
    "# Temperature vs Ice Cream Sales with hexbin plot\n",
    "hb2 = axes[1].hexbin(data['Temperature'], data['Ice Cream Sales'], gridsize=50, cmap='Blues', bins='log')\n",
    "axes[1].set_title('Temperature vs Ice Cream Sales')\n",
    "axes[1].set_xlabel('Temperature (°C)')\n",
    "axes[1].set_ylabel('Ice Cream Sales (GBP)')\n",
    "\n",
    "# Electricity Load vs Ice Cream Sales with hexbin plot\n",
    "hb3 = axes[2].hexbin(data['Electricity Load'], data['Ice Cream Sales'], gridsize=50, cmap='Blues', bins='log')\n",
    "axes[2].set_title('Electricity Load vs Ice Cream Sales')\n",
    "axes[2].set_xlabel('Electricity Load (MW)')\n",
    "axes[2].set_ylabel('Ice Cream Sales (GBP)')"
   ]
  },
  {
   "cell_type": "raw",
   "id": "769caa98-9f67-449e-9e67-8165e6a4cefe",
   "metadata": {},
   "source": [
    "By examining these plots, we might find ourselves tempted to conclude a correlation between electricity load and ice cream sales, especially in a more complex scenario where the causal structure is not known to us. This observation highlights a common challenge in data analysis: distinguishing between mere correlation and actual causation without prior knowledge of the underlying causal mechanisms."
   ]
  },
  {
   "cell_type": "markdown",
   "id": "17ee2f93-809a-45ee-8e39-b5266f107fac",
   "metadata": {},
   "source": [
    "## Causal discovery from observational data\n",
    "\n",
    "If our objective extends beyond merely studying correlations to understanding the underlying causal mechanisms within our data, we must delve into the field of causal discovery. Causal discovery techniques are designed to help uncover the actual causal relationships from observational data, even when the causal structure is not explicitly known. There are two main approaches to causal discovery: independence-based discovery and semi-parametric discovery.\n",
    "\n",
    "### Independence-based causal discovery\n",
    "The process involves analyzing basic DAG structures like **chains** and **forks** (to be discussed in a specific section) to interpret how variables influence each other. However, this method often only leads to identifying the **Markov equivalence class** of the graph. This means that while we can identify sets of relationships that are consistent with the observed independencies, we cannot definitively determine the direction of causality between all the variables. For instance, if we have only two variables, which are independent, this method cannot specify whether one causes the other or if they are causally unrelated.\n",
    "\n",
    "### Semi-parametric causal discovery\n",
    "\n",
    "Semi-parametric methods go a step further by making more specific **assumptions about the functional forms** of relationships between variables. These assumptions allow for a more detailed discovery of the causal graph, often identifying specific causal directions rather than just equivalence classes. By assuming certain **non-linearities** or **specific distributions of errors**, semi-parametric methods can exploit asymmetries in the data that reveal the direction of causal effects. This approach is more powerful in that it can often discern the actual causal structure rather than just a set of possible structures. However, the trade-off is that these methods require stronger assumptions about the nature of the data and the relationships involved, which may not always hold true.\n",
    "\n",
    "In the upcoming chapters, after a brief overview of the basic causal structures, we will be focusing on semi-parametric causal discovery approaches {cite}`shimizu2022statistical`."
   ]
  }
 ],
 "metadata": {
  "kernelspec": {
   "display_name": "Python 3 (ipykernel)",
   "language": "python",
   "name": "python3"
  },
  "language_info": {
   "codemirror_mode": {
    "name": "ipython",
    "version": 3
   },
   "file_extension": ".py",
   "mimetype": "text/x-python",
   "name": "python",
   "nbconvert_exporter": "python",
   "pygments_lexer": "ipython3",
   "version": "3.11.9"
  }
 },
 "nbformat": 4,
 "nbformat_minor": 5
}