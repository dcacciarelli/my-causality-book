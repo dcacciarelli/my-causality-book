{
 "cells": [
  {
   "cell_type": "markdown",
   "id": "09725987-a7a2-4f2d-9812-09841bf32e63",
   "metadata": {},
   "source": [
    "# How to navigate this book"
   ]
  },
  {
   "cell_type": "markdown",
   "id": "08390859-b96d-4d2d-aea3-9b70db895889",
   "metadata": {},
   "source": [
    "The content is currently divided into five main parts. Each part tries to provide a set of alternatives to tackle **one key question**. This is your map if\n",
    "\n"
   ]
  },
  {
   "cell_type": "code",
   "execution_count": null,
   "id": "7092e085-9d63-42b0-bdc0-69dc6f3ac672",
   "metadata": {},
   "outputs": [],
   "source": []
  },
  {
   "cell_type": "code",
   "execution_count": null,
   "id": "bd7e167a-df04-41e2-98b4-17bf405284a3",
   "metadata": {},
   "outputs": [],
   "source": []
  },
  {
   "cell_type": "code",
   "execution_count": null,
   "id": "8a8b4cf4-f213-48a8-a5ad-afb5f09462fc",
   "metadata": {},
   "outputs": [],
   "source": []
  },
  {
   "cell_type": "markdown",
   "id": "e020ee31-c374-4f8d-910d-1cbc15ea3eab",
   "metadata": {},
   "source": [
    "\n",
    "\n",
    "\n",
    "1. **Basic concepts**: this section lays the foundation for understanding causal inference. It differentiates between correlation and causation, introduces causal graphs, and explains basic causal structures. A comprehensive glossary is also provided to clarify key definitions and terminology. These fundamental concepts are crucial for grasping the more advanced topics covered later in the book.\n",
    "\n",
    "\n",
    "2. **Causal discovery**: the process of identifying causal relationships from data. This involves uncovering the underlying causal structure without assuming prior knowledge of the direction or nature of causality. It typically uses statistical and computational methods to determine which variables influence which other variables.\n",
    "   \n",
    "3. **Causal inference**: the process of estimating the strength and nature of causal relationships that have been identified. It involves using statistical techniques to quantify the effect of one variable on another, given the causal structure is known or assumed.\n",
    "   \n",
    "4. **Interpretability**: the ability to understand and explain how a model makes its predictions or decisions. It involves techniques that provide insights into the importance of different features, the effect of individual variables, and the overall behaviour of the model.\n",
    "   \n",
    "5. **Designs**: the structured and methodical approach to planning, conducting, analysing, and interpreting controlled experiments. It involves techniques for setting up experiments to ensure that the results are valid, reliable, and can be used to draw causal conclusions.\n",
    "\n",
    "## Causal Discovery\n",
    "\n",
    "Causal discovery involves identifying causal relationships from data. This process uncovers the underlying causal structure without assuming prior knowledge of the direction or nature of causality. It typically employs statistical and computational methods to determine which variables influence others, providing a foundation for further causal analysis.\n",
    "\n",
    "## Causal Inference\n",
    "\n",
    "Causal inference focuses on estimating the strength and nature of identified causal relationships. This part uses statistical techniques to quantify the effect of one variable on another, given that the causal structure is known or assumed. It aims to provide precise and reliable estimates of causal effects, essential for making informed decisions and predictions.\n",
    "\n",
    "## Interpretability\n",
    "\n",
    "Interpretability is crucial for understanding and explaining how models make predictions or decisions. This section introduces techniques that offer insights into the importance of different features, the effect of individual variables, and the overall behaviour of the model. These methods enhance transparency and trust in the models used in electricity markets.\n",
    "\n",
    "## Designs\n",
    "\n",
    "Designs refer to the structured and methodical approach to planning, conducting, analysing, and interpreting controlled experiments. This part covers techniques for setting up experiments to ensure that the results are valid, reliable, and can be used to draw causal conclusions. Effective experimental design is key to deriving actionable insights and making evidence-based decisions.\n",
    "\n",
    "---\n",
    "\n",
    "This revised version provides a clearer and more structured overview of the book, highlighting the purpose and importance of each section.\n",
    "\n",
    "\n",
    "\n"
   ]
  }
 ],
 "metadata": {
  "kernelspec": {
   "display_name": "Python 3 (ipykernel)",
   "language": "python",
   "name": "python3"
  },
  "language_info": {
   "codemirror_mode": {
    "name": "ipython",
    "version": 3
   },
   "file_extension": ".py",
   "mimetype": "text/x-python",
   "name": "python",
   "nbconvert_exporter": "python",
   "pygments_lexer": "ipython3",
   "version": "3.11.9"
  }
 },
 "nbformat": 4,
 "nbformat_minor": 5
}