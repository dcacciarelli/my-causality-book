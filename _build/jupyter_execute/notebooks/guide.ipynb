{
 "cells": [
  {
   "cell_type": "markdown",
   "id": "09725987-a7a2-4f2d-9812-09841bf32e63",
   "metadata": {},
   "source": [
    "# Guide\n",
    "\n",
    "The content is currently divided into five main parts. Each part aims to provide a set of alternatives to tackle **one key objective**. This is your map if you are not sure what you need.\n",
    "\n",
    "| Part | Name |Key Objective | Description |\n",
    "|------|---------|--------------|-------------|\n",
    "| I    | Basic Concepts |**Getting an overview of causal inference** | Introduction and basic concepts to understand the foundation of causal inference. Understanding the main properties of a directed acyclic graph (DAG) and the key terminology. |\n",
    "| II   | Causal Discovery |**Discovering causal relationships from data** | Causal discovery is the process of identifying causal relationships from data. This involves uncovering the underlying causal structure without assuming prior knowledge of the direction or nature of causality. It typically uses statistical and computational methods to determine which variables influence which other variables.. |\n",
    "| III  | Causal Inference|**Estimating causal effects accurately** | Causal inference refers to the process of estimating the strength and nature of causal relationships that have been identified. It involves using statistical techniques to quantify the effect of one variable on another, given the causal structure is known or assumed. |\n",
    "| IV   | Interpretability |**Interpreting machine learning models** | The ability to understand and explain how a model makes its predictions or decisions. It involves techniques that provide insights into the importance of different features, the effect of individual variables, and the overall behaviour of the model. |\n",
    "| V    | Experiments and Data Collection|**Designing effective experiments** | The structured and methodical approach to planning, conducting, analysing, and interpreting controlled experiments. It involves techniques for setting up experiments to ensure that the results are valid, reliable, and can be used to draw causal conclusions. |\n",
    "\n",
    "\n",
    "## Detailed Overviews\n",
    "Each of the parts from II to V begins with an overview chapter. These chapters deliver a thorough introduction and a brief summary of the key content, making it simpler for you to grasp the primary objectives and themes of each part."
   ]
  },
  {
   "cell_type": "code",
   "execution_count": null,
   "id": "47627b60-dc9f-4488-9dbe-2cb3c1654ef9",
   "metadata": {},
   "outputs": [],
   "source": []
  }
 ],
 "metadata": {
  "kernelspec": {
   "display_name": "Python 3 (ipykernel)",
   "language": "python",
   "name": "python3"
  },
  "language_info": {
   "codemirror_mode": {
    "name": "ipython",
    "version": 3
   },
   "file_extension": ".py",
   "mimetype": "text/x-python",
   "name": "python",
   "nbconvert_exporter": "python",
   "pygments_lexer": "ipython3",
   "version": "3.10.4"
  }
 },
 "nbformat": 4,
 "nbformat_minor": 5
}