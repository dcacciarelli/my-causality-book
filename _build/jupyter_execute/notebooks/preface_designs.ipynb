{
 "cells": [
  {
   "cell_type": "markdown",
   "id": "32c729e1-8b9f-49b8-8a24-26f7df887d8f",
   "metadata": {},
   "source": [
    "# Overview\n",
    "\n",
    "Collecting relevant data is always the first step for a good statistical analysis. In this context, a designed experiment refers to the structured and methodical approach to planning, conducting, analysing, and interpreting controlled experiments. This part covers techniques for setting up experiments to ensure that the results are valid, reliable, and can be used to draw causal conclusions. Effective experimental design is key to deriving actionable insights and making evidence-based decisions for several reasons:\n",
    "\n",
    "- **Validity**: ensures that the experiments measure what they are intended to measure, providing accurate results.\n",
    "- **Reliability**: guarantees that the results are consistent and replicable across different trials and settings.\n",
    "- **Causality**: facilitates the identification of causal relationships by controlling for confounding variables and ensuring that the observed effects are due to the treatments applied.\n",
    "- **Efficiency**: optimizes the use of resources, minimizing the cost and time required to conduct experiments while maximizing the information gained.\n",
    "\n",
    "Poor experimental design can lead to several issues:\n",
    "\n",
    "- **Bias**: without proper control and randomization, experiments can produce biased results, leading to incorrect conclusions.\n",
    "- **Confounding**: failing to account for confounding variables can obscure the true relationship between the treatment and the outcome.\n",
    "- **Lack of generalizability**: experiments that are not well-designed may produce results that cannot be generalized to other settings, populations, or time periods.\n",
    "\n",
    "### Content of Data Collection chapters\n",
    "\n",
    "| Chapter | Title                         | Description                                                                                  |\n",
    "|---------|-------------------------------|----------------------------------------------------------------------------------------------|\n",
    "| 23      | Design of Experiments   | Techniques for planning and conducting controlled experiments to draw causal conclusions.     |\n",
    "| 24      | Active Learning               | Methods for sequentially selecting data points to be labeled in a way that improves model performance. |\n",
    "| 25      | A/B Testing                   | Practical applications of A/B testing to compare two versions of a variable to determine which performs better. |\n",
    "| 26      | Multi-Armed Bandits      | Approaches to balance exploration and exploitation in experimental settings to optimize decision-making. |"
   ]
  }
 ],
 "metadata": {
  "kernelspec": {
   "display_name": "Python 3 (ipykernel)",
   "language": "python",
   "name": "python3"
  },
  "language_info": {
   "codemirror_mode": {
    "name": "ipython",
    "version": 3
   },
   "file_extension": ".py",
   "mimetype": "text/x-python",
   "name": "python",
   "nbconvert_exporter": "python",
   "pygments_lexer": "ipython3",
   "version": "3.11.9"
  }
 },
 "nbformat": 4,
 "nbformat_minor": 5
}