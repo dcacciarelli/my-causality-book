{
 "cells": [
  {
   "cell_type": "markdown",
   "id": "32c729e1-8b9f-49b8-8a24-26f7df887d8f",
   "metadata": {},
   "source": [
    "# Overview\n",
    "\n",
    "Designs refer to the structured and methodical approach to planning, conducting, analysing, and interpreting controlled experiments. This part covers techniques for setting up experiments to ensure that the results are valid, reliable, and can be used to draw causal conclusions. Effective experimental design is key to deriving actionable insights and making evidence-based decisions."
   ]
  }
 ],
 "metadata": {
  "kernelspec": {
   "display_name": "Python 3 (ipykernel)",
   "language": "python",
   "name": "python3"
  },
  "language_info": {
   "codemirror_mode": {
    "name": "ipython",
    "version": 3
   },
   "file_extension": ".py",
   "mimetype": "text/x-python",
   "name": "python",
   "nbconvert_exporter": "python",
   "pygments_lexer": "ipython3",
   "version": "3.11.9"
  }
 },
 "nbformat": 4,
 "nbformat_minor": 5
}