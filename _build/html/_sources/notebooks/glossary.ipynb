{
 "cells": [
  {
   "cell_type": "markdown",
   "id": "455afb5f-8658-4b7d-8ea8-8ae85a772cef",
   "metadata": {},
   "source": [
    "# Glossary: basic definitions and terminology\n",
    "\n",
    "There is no need to know everything that is in here for now. This chapter is designed to be as a vademecum that you can consult whenever you have a doubt. It has been a few months since you started your causal inference course? Just come back here and get a refresher on the terms you do not remember."
   ]
  },
  {
   "cell_type": "code",
   "execution_count": null,
   "id": "590683ff-cbe2-4633-868e-ec1a65489fbc",
   "metadata": {},
   "outputs": [],
   "source": []
  }
 ],
 "metadata": {
  "kernelspec": {
   "display_name": "Python 3 (ipykernel)",
   "language": "python",
   "name": "python3"
  },
  "language_info": {
   "codemirror_mode": {
    "name": "ipython",
    "version": 3
   },
   "file_extension": ".py",
   "mimetype": "text/x-python",
   "name": "python",
   "nbconvert_exporter": "python",
   "pygments_lexer": "ipython3",
   "version": "3.11.9"
  }
 },
 "nbformat": 4,
 "nbformat_minor": 5
}
