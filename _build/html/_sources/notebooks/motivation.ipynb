{
 "cells": [
  {
   "cell_type": "markdown",
   "id": "d60ec538-e792-4063-91e1-4b84eba7dbe0",
   "metadata": {},
   "source": [
    "# Why do you want to study causality"
   ]
  },
  {
   "cell_type": "code",
   "execution_count": null,
   "id": "a7bc9c9e-1d42-45a0-ba4b-fe3484e23750",
   "metadata": {},
   "outputs": [],
   "source": []
  }
 ],
 "metadata": {
  "kernelspec": {
   "display_name": "Python 3 (ipykernel)",
   "language": "python",
   "name": "python3"
  },
  "language_info": {
   "codemirror_mode": {
    "name": "ipython",
    "version": 3
   },
   "file_extension": ".py",
   "mimetype": "text/x-python",
   "name": "python",
   "nbconvert_exporter": "python",
   "pygments_lexer": "ipython3",
   "version": "3.11.9"
  }
 },
 "nbformat": 4,
 "nbformat_minor": 5
}
